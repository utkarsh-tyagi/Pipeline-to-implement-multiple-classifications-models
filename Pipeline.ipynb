{
 "cells": [
  {
   "cell_type": "code",
   "execution_count": null,
   "metadata": {},
   "outputs": [],
   "source": [
    "def classpipe(pipeline, scaled_xtrain, ytrain, scaled_xtest, ytest, verbose=True):\n",
    "   \n",
    "    pipeline.fit(scaled_xtrain, ytrain)\n",
    "    y_test_pred = pipeline.predict(scaled_xtest)\n",
    "    \n",
    "    acc = accuracy_score(ytest,y_test_pred)\n",
    "    cohen_score = cohen_kappa_score(ytest,y_test_pred)\n",
    "    \n",
    "    if verbose:\n",
    "        print(\"----------------------------------------------------------------------------------\")\n",
    "        print(f\"Classifier algorithm: {pipeline.named_steps['classifiers'].__class__.__name__}\")\n",
    "        print()\n",
    "        print(f\"Accuracy Score : {acc}\")\n",
    "        print(f\"CohenKappa Score : {cohen_score}\")\n",
    "        print()\n",
    "    \n",
    "    return pipeline.named_steps['classifiers'], acc, cohen_score\n",
    "    \n",
    "classifiers = [\n",
    "    LogisticRegression(),\n",
    "    DecisionTreeClassifier(),\n",
    "    RandomForestClassifier(),\n",
    "    LGBMClassifier(lambda_l1=10),\n",
    "    AdaBoostClassifier(),\n",
    "    GradientBoostingClassifier(),\n",
    "    XGBClassifier(lambda_l1=10)\n",
    "    \n",
    "]\n",
    "\n",
    "for r in classifiers:\n",
    "    pipe = Pipeline(steps = [\n",
    "        ('classifiers', r)\n",
    "    ])\n",
    "\n",
    "    classpipe(pipe, scaled_xtrain, ytrain, scaled_xtest, ytest)\n"
   ]
  }
 ],
 "metadata": {
  "kernelspec": {
   "display_name": "Python 3",
   "language": "python",
   "name": "python3"
  },
  "language_info": {
   "codemirror_mode": {
    "name": "ipython",
    "version": 3
   },
   "file_extension": ".py",
   "mimetype": "text/x-python",
   "name": "python",
   "nbconvert_exporter": "python",
   "pygments_lexer": "ipython3",
   "version": "3.7.4"
  }
 },
 "nbformat": 4,
 "nbformat_minor": 4
}
